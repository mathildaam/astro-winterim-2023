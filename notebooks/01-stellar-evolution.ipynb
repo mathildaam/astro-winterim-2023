{
 "cells": [
  {
   "cell_type": "markdown",
   "id": "metropolitan-expansion",
   "metadata": {},
   "source": [
    "# Stellar Evolution\n",
    "## Introduction to Astronomy, AGS Winterim 2023\n",
    "By: Mathilda Avirett-Mackenzie\n",
    "\n",
    "We've learned about the life cycles of stars: how they are born in [molecular gas clouds](https://esahubble.org/images/heic0601a/), spend most of their lifetimes fusing hydrogen into helium, then expand into red giants as they fuse heavier elements, until they run out of fuel and either [peacefully shed their outer layers](https://esahubble.org/images/heic1310a/), leaving behind a white dwarf (low mass stars) or [explode in dramatic supernovae](https://esahubble.org/images/heic0515a/), collapsing into a neutron star or black hole (high mass stars), leaving behind diffuse gas that may eventually form into more stars. \n",
    "\n",
    "We've also learned how these stages of a star's life appear to us on Earth and how to tell a star's fate by its position on the Hertzsprung-Russell diagram. We've even [played around](https://starinabox.lco.global/#) with how stars move along the diagram when they run out of hydrogen, ignite helium and heavier elements, and eventually run out of fuel completely.\n",
    "\n",
    "In this notebook, we'll learn how to use the [astropy](https://www.astropy.org) and [matplotlib](https://matplotlib.org) packages to read in a table of stars and their magnitudes and colors, then plot these in an HR diagram."
   ]
  },
  {
   "cell_type": "code",
   "execution_count": 3,
   "id": "positive-latin",
   "metadata": {},
   "outputs": [],
   "source": [
    "# packages we will use\n",
    "import numpy as np               # needed for some calculations\n",
    "import matplotlib.pyplot as plt  # does plotting\n",
    "from astropy.table import Table  # to read in data tables"
   ]
  },
  {
   "cell_type": "markdown",
   "id": "1b0b13eb",
   "metadata": {},
   "source": [
    "## Stellar data\n",
    "We'll be using magnitudes, parallaxes, and colors of stars measured by the [Hipparcos satellite](https://www.esa.int/Science_Exploration/Space_Science/Hipparcos_overview) in the early 1990s. Hipparcos was the first space telescope devoted to performing astrometry, precisely measuring the positions of millions of stars and their movement within the Milky Way. Its successor, [Gaia](https://www.esa.int/Science_Exploration/Space_Science/Gaia), is currently operating and recently published its third data release, which has increased the number of stars with these measurements to several billion, three orders of magnitude more!\n",
    "\n",
    "These data can be accessed via the [VizieR](http://vizier.cds.unistra.fr/viz-bin/VizieR-3?-source=I/239/hip_main) website.\n",
    "\n",
    "**_Fun fact:_ HIPPARCOS is an acronym for HIgh Precision PARallax COllecting Satellite. Astronomers love dumb acronyms.**"
   ]
  },
  {
   "cell_type": "code",
   "execution_count": 4,
   "id": "94b3f15e",
   "metadata": {},
   "outputs": [],
   "source": [
    "hip_cat = Table.read('../data/hipparcos.fit')            # read in the catalogue to a Table\n",
    "hip_cat = hip_cat[hip_cat['Plx'] > 3*hip_cat['e_Plx']*3] # removing stars with unreliable parallax measurements"
   ]
  },
  {
   "cell_type": "code",
   "execution_count": 5,
   "id": "d838ac2e",
   "metadata": {
    "scrolled": true
   },
   "outputs": [
    {
     "data": {
      "text/html": [
       "<i>Table length=24380</i>\n",
       "<table id=\"table140450053234528\" class=\"table-striped table-bordered table-condensed\">\n",
       "<thead><tr><th>HIP</th><th>RAhms</th><th>DEdms</th><th>Vmag</th><th>RAICRS</th><th>DEICRS</th><th>Plx</th><th>pmRA</th><th>pmDE</th><th>e_Plx</th><th>B-V</th><th>Notes</th><th>_RA_icrs</th><th>_DE_icrs</th><th>recno</th></tr></thead>\n",
       "<thead><tr><th></th><th></th><th></th><th>mag</th><th>deg</th><th>deg</th><th>mas</th><th>mas / yr</th><th>mas / yr</th><th>mas</th><th>mag</th><th></th><th>deg</th><th>deg</th><th></th></tr></thead>\n",
       "<thead><tr><th>int32</th><th>bytes11</th><th>bytes11</th><th>float32</th><th>float64</th><th>float64</th><th>float32</th><th>float64</th><th>float64</th><th>float32</th><th>float32</th><th>bytes1</th><th>float64</th><th>float64</th><th>int32</th></tr></thead>\n",
       "<tr><td>2504</td><td>00 31 44.40</td><td>-53 28 48.6</td><td>9.64</td><td>7.93498103</td><td>-53.48017332</td><td>13.68</td><td>30.97</td><td>-32.35</td><td>1.38</td><td>0.817</td><td></td><td>7.93510752</td><td>-53.48025195</td><td>2502</td></tr>\n",
       "<tr><td>2510</td><td>00 31 49.75</td><td>+04 50 46.4</td><td>7.99</td><td>7.95729925</td><td>4.84621221</td><td>9.30</td><td>-0.62</td><td>-20.84</td><td>1.00</td><td>0.325</td><td></td><td>7.95729774</td><td>4.84616156</td><td>2508</td></tr>\n",
       "<tr><td>2511</td><td>00 31 51.03</td><td>-27 49 42.2</td><td>9.60</td><td>7.96261887</td><td>-27.82839734</td><td>15.71</td><td>189.69</td><td>6.38</td><td>1.45</td><td>0.759</td><td></td><td>7.96314022</td><td>-27.82838183</td><td>2509</td></tr>\n",
       "<tr><td>2512</td><td>00 31 51.06</td><td>+18 06 20.0</td><td>7.22</td><td>7.96274771</td><td>18.10554887</td><td>10.47</td><td>55.93</td><td>-88.93</td><td>0.81</td><td>0.535</td><td></td><td>7.96289073</td><td>18.10533272</td><td>2510</td></tr>\n",
       "<tr><td>2532</td><td>00 32 07.04</td><td>-12 17 42.1</td><td>8.27</td><td>8.02934093</td><td>-12.29501561</td><td>13.78</td><td>49.01</td><td>-26.84</td><td>1.06</td><td>0.580</td><td></td><td>8.02946285</td><td>-12.29508085</td><td>2530</td></tr>\n",
       "<tr><td>2533</td><td>00 32 08.10</td><td>-05 10 43.1</td><td>8.54</td><td>8.03376796</td><td>-5.17864035</td><td>21.40</td><td>297.12</td><td>-27.41</td><td>1.86</td><td>0.840</td><td>D</td><td>8.03449309</td><td>-5.17870697</td><td>2531</td></tr>\n",
       "<tr><td>2539</td><td>00 32 14.04</td><td>+34 59 38.2</td><td>6.74</td><td>8.05851728</td><td>34.99394306</td><td>9.62</td><td>11.43</td><td>-23.53</td><td>0.76</td><td>0.191</td><td></td><td>8.05855119</td><td>34.99388587</td><td>2537</td></tr>\n",
       "<tr><td>2540</td><td>00 32 14.74</td><td>-63 05 27.6</td><td>9.65</td><td>8.06139856</td><td>-63.09101331</td><td>38.85</td><td>530.04</td><td>-100.87</td><td>1.10</td><td>1.367</td><td></td><td>8.06424517</td><td>-63.09125845</td><td>2538</td></tr>\n",
       "<tr><td>2542</td><td>00 32 21.02</td><td>-51 59 25.6</td><td>8.69</td><td>8.08759430</td><td>-51.99045524</td><td>10.38</td><td>55.60</td><td>-9.93</td><td>1.08</td><td>0.537</td><td></td><td>8.08781376</td><td>-51.99047938</td><td>2540</td></tr>\n",
       "<tr><td>...</td><td>...</td><td>...</td><td>...</td><td>...</td><td>...</td><td>...</td><td>...</td><td>...</td><td>...</td><td>...</td><td>...</td><td>...</td><td>...</td><td>...</td></tr>\n",
       "<tr><td>2452</td><td>00 31 12.22</td><td>-41 52 53.8</td><td>9.27</td><td>7.80092777</td><td>-41.88160437</td><td>16.21</td><td>-225.66</td><td>-75.71</td><td>1.36</td><td>0.804</td><td></td><td>7.80019109</td><td>-41.88178839</td><td>2450</td></tr>\n",
       "<tr><td>2453</td><td>00 31 12.41</td><td>+69 47 07.6</td><td>7.37</td><td>7.80170012</td><td>69.78543643</td><td>23.95</td><td>297.68</td><td>-72.65</td><td>0.66</td><td>0.504</td><td></td><td>7.80379403</td><td>69.78525984</td><td>2451</td></tr>\n",
       "<tr><td>2472</td><td>00 31 24.86</td><td>-48 48 12.8</td><td>4.76</td><td>7.85356695</td><td>-48.80356171</td><td>18.97</td><td>140.74</td><td>19.47</td><td>0.64</td><td>0.018</td><td></td><td>7.85408632</td><td>-48.80351439</td><td>2470</td></tr>\n",
       "<tr><td>2479</td><td>00 31 30.32</td><td>+11 31 56.3</td><td>7.18</td><td>7.87634042</td><td>11.53231372</td><td>13.44</td><td>-36.65</td><td>-40.49</td><td>0.83</td><td>0.275</td><td></td><td>7.87624950</td><td>11.53221531</td><td>2477</td></tr>\n",
       "<tr><td>2482</td><td>00 31 31.66</td><td>-04 16 54.8</td><td>8.10</td><td>7.88192575</td><td>-4.28187876</td><td>15.90</td><td>-83.38</td><td>-154.79</td><td>1.03</td><td>0.528</td><td></td><td>7.88172252</td><td>-4.28225499</td><td>2480</td></tr>\n",
       "<tr><td>2483</td><td>00 31 31.72</td><td>-11 16 23.7</td><td>8.15</td><td>7.88216341</td><td>-11.27324041</td><td>15.36</td><td>91.16</td><td>-19.30</td><td>1.58</td><td>0.653</td><td></td><td>7.88238934</td><td>-11.27328732</td><td>2481</td></tr>\n",
       "<tr><td>2484</td><td>00 31 32.56</td><td>-62 57 29.1</td><td>4.36</td><td>7.88566992</td><td>-62.95808549</td><td>23.35</td><td>82.48</td><td>-54.37</td><td>0.52</td><td>-0.064</td><td></td><td>7.88611087</td><td>-62.95821764</td><td>2482</td></tr>\n",
       "<tr><td>2496</td><td>00 31 40.74</td><td>-01 47 37.1</td><td>7.07</td><td>7.91974936</td><td>-1.79363321</td><td>9.86</td><td>18.48</td><td>-13.79</td><td>0.86</td><td>0.071</td><td></td><td>7.91979430</td><td>-1.79366673</td><td>2494</td></tr>\n",
       "<tr><td>2497</td><td>00 31 41.21</td><td>+52 50 22.4</td><td>5.59</td><td>7.92171234</td><td>52.83955844</td><td>8.29</td><td>-55.33</td><td>-13.14</td><td>0.68</td><td>1.163</td><td></td><td>7.92148970</td><td>52.83952650</td><td>2495</td></tr>\n",
       "<tr><td>2498</td><td>00 31 41.51</td><td>+12 54 50.0</td><td>7.25</td><td>7.92296934</td><td>12.91388642</td><td>12.27</td><td>-81.72</td><td>-157.66</td><td>0.88</td><td>0.906</td><td></td><td>7.92276556</td><td>12.91350322</td><td>2496</td></tr>\n",
       "</table>"
      ],
      "text/plain": [
       "<Table length=24380>\n",
       " HIP      RAhms       DEdms      Vmag  ...   _RA_icrs     _DE_icrs    recno  \n",
       "                                 mag   ...     deg          deg              \n",
       "int32    bytes11     bytes11   float32 ...   float64      float64     int32  \n",
       "------ ----------- ----------- ------- ... ------------ ------------ --------\n",
       "  2504 00 31 44.40 -53 28 48.6    9.64 ...   7.93510752 -53.48025195     2502\n",
       "  2510 00 31 49.75 +04 50 46.4    7.99 ...   7.95729774   4.84616156     2508\n",
       "  2511 00 31 51.03 -27 49 42.2    9.60 ...   7.96314022 -27.82838183     2509\n",
       "  2512 00 31 51.06 +18 06 20.0    7.22 ...   7.96289073  18.10533272     2510\n",
       "  2532 00 32 07.04 -12 17 42.1    8.27 ...   8.02946285 -12.29508085     2530\n",
       "  2533 00 32 08.10 -05 10 43.1    8.54 ...   8.03449309  -5.17870697     2531\n",
       "  2539 00 32 14.04 +34 59 38.2    6.74 ...   8.05855119  34.99388587     2537\n",
       "  2540 00 32 14.74 -63 05 27.6    9.65 ...   8.06424517 -63.09125845     2538\n",
       "  2542 00 32 21.02 -51 59 25.6    8.69 ...   8.08781376 -51.99047938     2540\n",
       "   ...         ...         ...     ... ...          ...          ...      ...\n",
       "  2452 00 31 12.22 -41 52 53.8    9.27 ...   7.80019109 -41.88178839     2450\n",
       "  2453 00 31 12.41 +69 47 07.6    7.37 ...   7.80379403  69.78525984     2451\n",
       "  2472 00 31 24.86 -48 48 12.8    4.76 ...   7.85408632 -48.80351439     2470\n",
       "  2479 00 31 30.32 +11 31 56.3    7.18 ...   7.87624950  11.53221531     2477\n",
       "  2482 00 31 31.66 -04 16 54.8    8.10 ...   7.88172252  -4.28225499     2480\n",
       "  2483 00 31 31.72 -11 16 23.7    8.15 ...   7.88238934 -11.27328732     2481\n",
       "  2484 00 31 32.56 -62 57 29.1    4.36 ...   7.88611087 -62.95821764     2482\n",
       "  2496 00 31 40.74 -01 47 37.1    7.07 ...   7.91979430  -1.79366673     2494\n",
       "  2497 00 31 41.21 +52 50 22.4    5.59 ...   7.92148970  52.83952650     2495\n",
       "  2498 00 31 41.51 +12 54 50.0    7.25 ...   7.92276556  12.91350322     2496"
      ]
     },
     "execution_count": 5,
     "metadata": {},
     "output_type": "execute_result"
    }
   ],
   "source": [
    "hip_cat # we can look at what we have in the table"
   ]
  },
  {
   "cell_type": "markdown",
   "id": "277e7987",
   "metadata": {},
   "source": [
    "Within this catalogue, the columns we care about are the **magnitude** `Vmag`, the **parallax** `Plx`, and the **color** `B-V`. \n",
    "\n",
    "The **absolute magnitude** $M$ of a star is defined as its magnitude seen at a distance of 10 parsecs. It is related to the apparent magnitude $m$ of the star seen at its distance $d$ from Earth by\n",
    "$$m - M = 5\\log(d) - 5.$$\n",
    "Solving for $M$ gives us\n",
    "$$M = m  - 5\\log(d) + 5$$\n",
    "and plugging in the relationship between distance and parallax, or $d = 1/p$, we get that\n",
    "$$M = m + 5\\log(p) + 5$$"
   ]
  },
  {
   "cell_type": "code",
   "execution_count": null,
   "id": "64cbd520",
   "metadata": {},
   "outputs": [],
   "source": [
    "m_abs = hip_cat['Vmag'] + 5*np.log10(hip_cat['Plx']/1000) + 5 # note that parallax is in milliarcseconds"
   ]
  },
  {
   "cell_type": "markdown",
   "id": "deff9949",
   "metadata": {},
   "source": [
    "We can also convert to luminosities with the information that the Sun has an absolute magnitude of $4.83$. From the definitions of flux and magnitude (see the intro notebook for a reminder), we have that\n",
    "$$M = 4.83 - 2.5\\log(L)$$\n",
    "or solving for $L$,\n",
    "$$L = 10^{0.4(4.83 - M)}$$"
   ]
  },
  {
   "cell_type": "code",
   "execution_count": null,
   "id": "cafd7a54",
   "metadata": {},
   "outputs": [],
   "source": [
    "lumin = 10**(0.4*(4.83 - m_abs))"
   ]
  },
  {
   "cell_type": "markdown",
   "id": "3452e5c3",
   "metadata": {},
   "source": [
    "We can read color straight out of the catalogue, though it may seem a bit odd to express color as a number, or a difference of two numbers. This is because in astronomy, the word color means the flux ratio of red light to blue light coming from a star. Expressed in magnitude space, this becomes a difference."
   ]
  },
  {
   "cell_type": "code",
   "execution_count": null,
   "id": "979cb943",
   "metadata": {},
   "outputs": [],
   "source": [
    "color = hip_cat['B-V']"
   ]
  },
  {
   "cell_type": "markdown",
   "id": "super-consumer",
   "metadata": {},
   "source": [
    "## Hertzsprung-Russell Diagram\n",
    "We can now plot the luminosities against the colors and see whether everything looks right!"
   ]
  },
  {
   "cell_type": "code",
   "execution_count": null,
   "id": "enclosed-standard",
   "metadata": {},
   "outputs": [],
   "source": [
    "fig = plt.figure(figsize=(20,20))   # create a figure\n",
    "ax = fig.subplots(nrows=1, ncols=1) # create the plot on the figure\n",
    "\n",
    "ax.scatter(color, lumin, c='k', s=1, zorder=1) # scatter plot of the colors and luminosities\n",
    "\n",
    "# labelling axes\n",
    "ax.set_xlabel(r'$B-V$ color', size=24)\n",
    "ax.set_ylabel(r'Luminosity ($L_{\\odot}$)', size=24)\n",
    "\n",
    "# formatting stuff, don't bother reading this bit\n",
    "ax.set_yscale('log')\n",
    "ax.grid('True', zorder=-1) \n",
    "ax.set_xlim(-0.5, 2)\n",
    "ax.set_ylim(1e-3, 1e3)\n",
    "ax.tick_params(which='minor', left=True, right=True, direction='in')\n",
    "ax.tick_params(which='major', left=True, right=True, bottom=True, top=True, direction='in', labelsize=20)"
   ]
  },
  {
   "cell_type": "code",
   "execution_count": null,
   "id": "right-election",
   "metadata": {},
   "outputs": [],
   "source": []
  }
 ],
 "metadata": {
  "kernelspec": {
   "display_name": "Python 3",
   "language": "python",
   "name": "python3"
  },
  "language_info": {
   "codemirror_mode": {
    "name": "ipython",
    "version": 3
   },
   "file_extension": ".py",
   "mimetype": "text/x-python",
   "name": "python",
   "nbconvert_exporter": "python",
   "pygments_lexer": "ipython3",
   "version": "3.6.9"
  }
 },
 "nbformat": 4,
 "nbformat_minor": 5
}
