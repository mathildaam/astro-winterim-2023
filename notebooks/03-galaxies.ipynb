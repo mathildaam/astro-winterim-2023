{
 "cells": [
  {
   "cell_type": "markdown",
   "id": "confirmed-contributor",
   "metadata": {},
   "source": [
    "# Galaxies\n",
    "## Introduction to Astronomy, AGS Winterim 2023\n",
    "By: Mathilda Avirett-Mackenzie\n",
    "\n"
   ]
  },
  {
   "cell_type": "code",
   "execution_count": null,
   "id": "sunset-continent",
   "metadata": {},
   "outputs": [],
   "source": [
    "# packages we will use\n",
    "import numpy as np                     # needed for some calculations\n",
    "import matplotlib.pyplot as plt        # does plotting\n",
    "from astropy.table import Table        # to read in data tables\n",
    "from astropy.cosmology import Planck18 # to calculate distances"
   ]
  },
  {
   "cell_type": "markdown",
   "id": "equipped-balloon",
   "metadata": {},
   "source": [
    "## Galaxy Data\n",
    "We will use magnitude and position data of galaxies in the [Sloan Digital Sky Survey](https://sdss.org), retrieved with their [SQL search tool](http://skyserver.sdss.org/dr17/SearchTools/sql).\n",
    "\n",
    "The $u$, $g$, $r$, $i$, and $z$ columns correspond to the different [filters](https://skyserver.sdss.org/dr1/en/proj/advanced/color/sdssfilters.asp) used by the SDSS camera. Filters restrict the image to a certain range of wavelengths (kind of like how our eyes can only see light between about 4000 and 7000 [Angstroms](https://en.wikipedia.org/wiki/Angstrom)). The filters are:\n",
    "\n",
    "| Filter    | Range         | Peak Wavelength |\n",
    "| :-:       | :-:           | :-:             |\n",
    "| $u$       | ultraviolet   | 3543 A          |\n",
    "| $g$       | green         | 4770 A          |\n",
    "| $r$       | red           | 6231 A          |\n",
    "| $i$       | near infrared | 7625 A          |\n",
    "| $z$       | far infrared  | 9134 A          |"
   ]
  },
  {
   "cell_type": "code",
   "execution_count": null,
   "id": "liberal-willow",
   "metadata": {},
   "outputs": [],
   "source": [
    "gal_cat = Table.read('../data/sdss-galaxies.csv', format='ascii')"
   ]
  },
  {
   "cell_type": "code",
   "execution_count": null,
   "id": "precise-threat",
   "metadata": {
    "scrolled": true
   },
   "outputs": [],
   "source": [
    "gal_cat"
   ]
  },
  {
   "cell_type": "markdown",
   "id": "bfbbe5e8",
   "metadata": {},
   "source": [
    "## Color vs magnitude\n",
    "Like the Hertzsprung-Russell diagram for stars, we can characterize galaxies by plotting color vs brightness. As a reminder, in astronomy we express color as flux ratio or magnitude difference of red light to blue light. A larger color value means a source is redder, while a smaller color value means it is bluer."
   ]
  },
  {
   "cell_type": "code",
   "execution_count": null,
   "id": "8c8200c1",
   "metadata": {},
   "outputs": [],
   "source": [
    "color = gal_cat['g'] - gal_cat ['r'] # have to calculate this ourselves this time"
   ]
  },
  {
   "cell_type": "markdown",
   "id": "bd30cfd0",
   "metadata": {},
   "source": [
    "We can immediately see that the galaxies are more likely to have colors around 0.5 or 0.9 and less likely to fall in the middle. This is called a bimodal distribution."
   ]
  },
  {
   "cell_type": "code",
   "execution_count": null,
   "id": "11b02b45",
   "metadata": {},
   "outputs": [],
   "source": [
    "# calculate absolute magnitude from distance\n",
    "# distances to galaxies can get a bit complicated as they are moving away from us\n",
    "distance = Planck18.luminosity_distance(gal_cat['redshift']).value*1e6\n",
    "magnitude = gal_cat['r'] - 5*np.log10(distance) + 5   # using the definition of absolute magnitude"
   ]
  },
  {
   "cell_type": "code",
   "execution_count": null,
   "id": "311de884",
   "metadata": {},
   "outputs": [],
   "source": [
    "fig = plt.figure(figsize=(20,20))   # create a figure\n",
    "ax = fig.subplots(nrows=1, ncols=1) # create the plot on the figure\n",
    "\n",
    "# scatter plot of colors and magnitudes\n",
    "ax.scatter(magnitude, color, c='k', s=1, zorder=5, alpha=0.1) \n",
    "\n",
    "# labelling axes\n",
    "ax.set_ylabel(r'$g-r$ color', size=24)\n",
    "ax.set_xlabel(r'$r$-band magnitude', size=24)\n",
    "\n",
    "# formatting stuff, don't bother reading this bit\n",
    "# ax.set_yscale('log')\n",
    "ax.grid('True', zorder=-2) \n",
    "ax.set_xlim(-16, -24)\n",
    "ax.set_ylim(0,1.2)\n",
    "ax.tick_params(which='minor', left=True, right=True, direction='in')\n",
    "ax.tick_params(which='major', left=True, right=True, bottom=True, top=True, direction='in', labelsize=20)"
   ]
  },
  {
   "cell_type": "markdown",
   "id": "85a490af",
   "metadata": {},
   "source": [
    "There's lots of outliers, but we can see a clear red sequence with $g-r$ between 0.8 and 1, and a somewhat more diffuse blue cloud in the general region of $g-r$ between 0.4 and 0.7.\n",
    "\n",
    "We can grab the coordinates of some typical galaxies from both regions and look them up in [SkyServer](https://skyserver.sdss.org) to see what they look like. Try looking at both the images and spectra for a few red galaxies and a few blue galaxies.\n",
    "\n",
    "You may find you'll need to be accurate to up to 3 decimal places in the coordinates to land on the galaxy in SkyServer. Tick the \"Objects with spectra\" box on the left side under \"Drawing Options\" to make it draw a red box around all galaxies with spectra."
   ]
  },
  {
   "cell_type": "code",
   "execution_count": null,
   "id": "f689770b",
   "metadata": {
    "scrolled": true
   },
   "outputs": [],
   "source": [
    "# red sequence\n",
    "gal_cat[['ra', 'dec']][np.logical_and(np.logical_and(color > 0.85, color < 0.95),\n",
    "                                      np.logical_and(magnitude < -20.5, magnitude > -21.5))]"
   ]
  },
  {
   "cell_type": "code",
   "execution_count": null,
   "id": "9a5737f9",
   "metadata": {
    "scrolled": true
   },
   "outputs": [],
   "source": [
    "# blue cloud\n",
    "gal_cat[['ra', 'dec']][np.logical_and(np.logical_and(color > 0.4, color < 0.6),\n",
    "                                      np.logical_and(magnitude < -20, magnitude > -20.5))]"
   ]
  },
  {
   "cell_type": "markdown",
   "id": "321c3ad2",
   "metadata": {},
   "source": [
    "## Sky position\n",
    "Galaxies aren't evenly spaced in the universe; rather, they form a web-like pattern of filaments and nodes surrounding big empty voids. We can see this in action just by plotting the sky positions of galaxies at the same redshift."
   ]
  },
  {
   "cell_type": "code",
   "execution_count": null,
   "id": "cf9b8716",
   "metadata": {},
   "outputs": [],
   "source": [
    "fig = plt.figure(figsize=(20,20))   # create a figure\n",
    "ax = fig.subplots(nrows=1, ncols=1) # create the plot on the figure\n",
    "\n",
    "# scatter plot of positions\n",
    "ax.scatter(gal_cat['ra'], gal_cat['dec'], c='k', s=1, zorder=5, alpha=0.1) \n",
    "\n",
    "# labelling axes\n",
    "ax.set_xlabel('Right Ascension (deg)', size=24)\n",
    "ax.set_ylabel('Declination (deg)', size=24)\n",
    "\n",
    "# formatting stuff, don't bother reading this bit\n",
    "# ax.set_yscale('log')\n",
    "ax.grid('True', zorder=-2) \n",
    "ax.set_xlim(175, 225)\n",
    "ax.set_ylim(10, 60)\n",
    "ax.tick_params(which='minor', left=True, right=True, direction='in')\n",
    "ax.tick_params(which='major', left=True, right=True, bottom=True, top=True, direction='in', labelsize=20)"
   ]
  },
  {
   "cell_type": "code",
   "execution_count": null,
   "id": "e8648c0a",
   "metadata": {},
   "outputs": [],
   "source": []
  }
 ],
 "metadata": {
  "kernelspec": {
   "display_name": "Python 3 (ipykernel)",
   "language": "python",
   "name": "python3"
  },
  "language_info": {
   "codemirror_mode": {
    "name": "ipython",
    "version": 3
   },
   "file_extension": ".py",
   "mimetype": "text/x-python",
   "name": "python",
   "nbconvert_exporter": "python",
   "pygments_lexer": "ipython3",
   "version": "3.9.15"
  }
 },
 "nbformat": 4,
 "nbformat_minor": 5
}
