{
 "cells": [
  {
   "cell_type": "markdown",
   "id": "fatal-limitation",
   "metadata": {},
   "source": [
    "# A short introduction to Python\n",
    "## Introduction to Astronomy, AGS Winterim 2023\n",
    "By: Mathilda Avirett-Mackenzie\n",
    "\n",
    "Coding is an incredibly powerful tool in science, both for building models and analyzing data. In this course, we'll be working with [Python](https://www.python.org), a language that is both simple and powerful and very commonly used by professional astronomers. We'll be learning using [Jupyter notebooks](https://jupyter.org). \n",
    "\n",
    "## 0. How to use Jupyter\n",
    "This notebook is divided into cells, which either contain code or text. To run a cell, either click on the `run` button at the top of the notebook or press `shift`+`enter`, which will run the code or render the text in the cell. \n",
    "\n",
    "Navigate with the arrow keys or by clicking on the cell you want to edit. \n",
    "\n",
    "If the box around the cell is green, you're in **edit mode** and you can type code or text into the cell. If the box around the cell is blue, you're in **command mode** and key presses correspond to different commands (kind of like the `control` or `command` button on your keyboard). You can press `Esc` to go to command mode if you're in edit mode, and `enter` to go to edit mode from command mode.\n",
    "\n",
    "Click the `+` button or press `a` or `b` (in command mode) to create a new code cell. You can change to a markdown cell by toggling in the dropdown menu at the top (which will say \"Code\" or \"Markdown\"), or by pressing `m` in command mode (change back to a code cell by pressing `y`). \n",
    "\n",
    "For the deeply curious, the button with the keyboard symbol at the top gives the full list of key commands you can do in command mode."
   ]
  },
  {
   "cell_type": "markdown",
   "id": "first-rendering",
   "metadata": {},
   "source": [
    "## 1. Coding basics\n",
    "### 1.1 Calculations\n",
    "We can do basic calculations in Python, just like on a calculator. Try running the cells below this one."
   ]
  },
  {
   "cell_type": "code",
   "execution_count": 1,
   "id": "literary-quality",
   "metadata": {},
   "outputs": [
    {
     "data": {
      "text/plain": [
       "3"
      ]
     },
     "execution_count": 1,
     "metadata": {},
     "output_type": "execute_result"
    }
   ],
   "source": [
    "1+2"
   ]
  },
  {
   "cell_type": "code",
   "execution_count": 2,
   "id": "solved-being",
   "metadata": {},
   "outputs": [
    {
     "data": {
      "text/plain": [
       "1.6666666666666667"
      ]
     },
     "execution_count": 2,
     "metadata": {},
     "output_type": "execute_result"
    }
   ],
   "source": [
    "5/3"
   ]
  },
  {
   "cell_type": "code",
   "execution_count": 3,
   "id": "closing-decimal",
   "metadata": {},
   "outputs": [
    {
     "data": {
      "text/plain": [
       "16"
      ]
     },
     "execution_count": 3,
     "metadata": {},
     "output_type": "execute_result"
    }
   ],
   "source": [
    "2**4"
   ]
  },
  {
   "cell_type": "markdown",
   "id": "medical-vacation",
   "metadata": {},
   "source": [
    "**Example:** Remember how we use parallax to measure the distance to other stars outside the solar system: $$d = \\frac1p.$$ Given that the parallax of Sirius is $0.379''$, calculate its distance in parsecs."
   ]
  },
  {
   "cell_type": "code",
   "execution_count": 4,
   "id": "rolled-madrid",
   "metadata": {},
   "outputs": [
    {
     "data": {
      "text/plain": [
       "2.638522427440633"
      ]
     },
     "execution_count": 4,
     "metadata": {},
     "output_type": "execute_result"
    }
   ],
   "source": [
    "1/0.379"
   ]
  },
  {
   "cell_type": "markdown",
   "id": "intense-there",
   "metadata": {},
   "source": [
    "### 1.2 Variables\n",
    "We can store information in a variable to use it in further calculations without having to retype it."
   ]
  },
  {
   "cell_type": "code",
   "execution_count": 5,
   "id": "joined-willow",
   "metadata": {},
   "outputs": [],
   "source": [
    "d_sirius = 1./0.379 # parsec"
   ]
  },
  {
   "cell_type": "code",
   "execution_count": 6,
   "id": "announced-baking",
   "metadata": {},
   "outputs": [
    {
     "data": {
      "text/plain": [
       "2.638522427440633"
      ]
     },
     "execution_count": 6,
     "metadata": {},
     "output_type": "execute_result"
    }
   ],
   "source": [
    "d_sirius"
   ]
  },
  {
   "cell_type": "markdown",
   "id": "molecular-utilization",
   "metadata": {},
   "source": [
    "We can also use variables to store constants and conversions to use in calculations.  \n",
    "\n",
    "**Example:** Given that there are $3.09 \\times 10^{13}$ kilometers in a parsec, store this value in a variable and print the distance to Sirius in km.  \n",
    "_Tip: Name your variables sensibly, so if you come back to the same program later you can understand it._"
   ]
  },
  {
   "cell_type": "code",
   "execution_count": 7,
   "id": "sophisticated-threshold",
   "metadata": {},
   "outputs": [],
   "source": [
    "km_per_pc = 3.09e13"
   ]
  },
  {
   "cell_type": "code",
   "execution_count": 8,
   "id": "4805ef85",
   "metadata": {},
   "outputs": [
    {
     "data": {
      "text/plain": [
       "30900000000000.0"
      ]
     },
     "execution_count": 8,
     "metadata": {},
     "output_type": "execute_result"
    }
   ],
   "source": [
    "km_per_pc"
   ]
  },
  {
   "cell_type": "code",
   "execution_count": 9,
   "id": "395344ea",
   "metadata": {},
   "outputs": [
    {
     "data": {
      "text/plain": [
       "81530343007915.56"
      ]
     },
     "execution_count": 9,
     "metadata": {},
     "output_type": "execute_result"
    }
   ],
   "source": [
    "d_sirius*km_per_pc"
   ]
  },
  {
   "cell_type": "code",
   "execution_count": 10,
   "id": "ae1cd709",
   "metadata": {},
   "outputs": [
    {
     "name": "stdout",
     "output_type": "stream",
     "text": [
      "8.153034e+13\n"
     ]
    }
   ],
   "source": [
    "print('%e' %(d_sirius*km_per_pc))"
   ]
  },
  {
   "cell_type": "markdown",
   "id": "amber-pittsburgh",
   "metadata": {},
   "source": [
    "### 1.3 Loops and functions\n",
    "Say we have a catalogue of a million stars with their parallax measurements, and we want to calulate all of their distances. We can't sit here typing out a million calculations! If we want to do the same calculation a bunch of times on different data, we can store the calculation in a function, and we can use a loop to apply the calculation over a list of data.\n",
    "\n",
    "We follow [standard conventions](https://numpydoc.readthedocs.io/en/latest/format.html) in documenting functions, that is, writing descriptions of what they do."
   ]
  },
  {
   "cell_type": "code",
   "execution_count": 11,
   "id": "broken-quality",
   "metadata": {},
   "outputs": [],
   "source": [
    "def dist_from_par(parallax):\n",
    "    ''' Function to calculate distance from parallax - yes this is a bit contrived\n",
    "    \n",
    "    Parameters\n",
    "    ----------\n",
    "    parallax : float\n",
    "        parallax in arcseconds\n",
    "        \n",
    "    Returns\n",
    "    -------\n",
    "    dist : float\n",
    "        distance in parsecs\n",
    "    \n",
    "    '''\n",
    "    dist = 1./parallax\n",
    "    return dist"
   ]
  },
  {
   "cell_type": "markdown",
   "id": "naughty-frederick",
   "metadata": {},
   "source": [
    "We can call the function on inputs as described in the documentation."
   ]
  },
  {
   "cell_type": "code",
   "execution_count": 12,
   "id": "floral-allowance",
   "metadata": {},
   "outputs": [
    {
     "data": {
      "text/plain": [
       "2.638522427440633"
      ]
     },
     "execution_count": 12,
     "metadata": {},
     "output_type": "execute_result"
    }
   ],
   "source": [
    "dist_from_par(0.379)"
   ]
  },
  {
   "cell_type": "markdown",
   "id": "boolean-europe",
   "metadata": {},
   "source": [
    "Now, given a list of data, we can use a powerful tool called a `for` loop to iterate over the list."
   ]
  },
  {
   "cell_type": "code",
   "execution_count": 13,
   "id": "black-honolulu",
   "metadata": {},
   "outputs": [],
   "source": [
    "parallaxes = [0.379, 10.5, 750.8, 88.8, 130.2] # parallaxes of some of the brightest stars"
   ]
  },
  {
   "cell_type": "code",
   "execution_count": 14,
   "id": "urban-geneva",
   "metadata": {},
   "outputs": [
    {
     "name": "stdout",
     "output_type": "stream",
     "text": [
      "0.379\n",
      "10.5\n",
      "750.8\n",
      "88.8\n",
      "130.2\n"
     ]
    }
   ],
   "source": [
    "for p in parallaxes:\n",
    "    print(p)"
   ]
  },
  {
   "cell_type": "markdown",
   "id": "compatible-triangle",
   "metadata": {},
   "source": [
    "**Example:** Put these concepts together, and use the `dist_from_par` function and a `for` loop to print the distances to the brightest 5 stars."
   ]
  },
  {
   "cell_type": "code",
   "execution_count": 15,
   "id": "sublime-aircraft",
   "metadata": {},
   "outputs": [
    {
     "name": "stdout",
     "output_type": "stream",
     "text": [
      "2.638522427440633\n",
      "0.09523809523809523\n",
      "0.0013319126265316996\n",
      "0.011261261261261262\n",
      "0.007680491551459294\n"
     ]
    }
   ],
   "source": [
    "for p in parallaxes:\n",
    "    print(dist_from_par(p))"
   ]
  },
  {
   "cell_type": "markdown",
   "id": "irish-louis",
   "metadata": {},
   "source": [
    "### 1.4 Importing packages\n",
    "What if we want to do more complicated calculations? Part of what makes Python so incredibly useful is being able to easily use published code to make our lives easier. Why spend a lot of time writing complicated code to calculate a square root when someone else has already done it?\n",
    "\n",
    "One of the most popular packages is [numpy](https://numpy.org), which contains a whole host of mathematical functions. We will use numpy a lot in this course."
   ]
  },
  {
   "cell_type": "code",
   "execution_count": 16,
   "id": "choice-novelty",
   "metadata": {},
   "outputs": [],
   "source": [
    "import numpy as np"
   ]
  },
  {
   "cell_type": "code",
   "execution_count": 17,
   "id": "exempt-seattle",
   "metadata": {},
   "outputs": [
    {
     "data": {
      "text/plain": [
       "1.4142135623730951"
      ]
     },
     "execution_count": 17,
     "metadata": {},
     "output_type": "execute_result"
    }
   ],
   "source": [
    "np.sqrt(2)"
   ]
  },
  {
   "cell_type": "code",
   "execution_count": 18,
   "id": "amateur-radar",
   "metadata": {},
   "outputs": [
    {
     "data": {
      "text/plain": [
       "3.0"
      ]
     },
     "execution_count": 18,
     "metadata": {},
     "output_type": "execute_result"
    }
   ],
   "source": [
    "np.log10(1000)"
   ]
  },
  {
   "cell_type": "code",
   "execution_count": 19,
   "id": "integrated-above",
   "metadata": {},
   "outputs": [
    {
     "data": {
      "text/plain": [
       "3.141592653589793"
      ]
     },
     "execution_count": 19,
     "metadata": {},
     "output_type": "execute_result"
    }
   ],
   "source": [
    "np.pi"
   ]
  },
  {
   "cell_type": "markdown",
   "id": "burning-delaware",
   "metadata": {},
   "source": [
    "**Example:** Remember how flux (light measured from a distant star) is related to luminosity (intrinsic energy output of the star) and distance: $$f = \\frac{L}{4 \\pi d^2}.$$\n",
    "Given that the luminosity of Sirius is $25.4 L_{\\odot}$ and its observed flux is $3.04 \\times 10^{-34} L_{\\odot}/\\mathrm{m}^2$, recover its distance. Does this match what you got from the parallax?"
   ]
  },
  {
   "cell_type": "code",
   "execution_count": null,
   "id": "varying-southeast",
   "metadata": {},
   "outputs": [],
   "source": []
  },
  {
   "cell_type": "markdown",
   "id": "streaming-opportunity",
   "metadata": {},
   "source": [
    "## 2. Putting it all together: Calculating magnitudes\n",
    "Let's now do a more complicated exercise to practice what we've learned. Remember that magnitudes in astronomy are defined logarithmically (which reflects how logarithms are basically a fancy name for orders of magnitude):\n",
    "$$m_1 - m_2 = -2.5 \\log\\left( \\frac{f_1}{f_2} \\right)$$\n",
    "\n",
    "Given that Sirius has a luminosity of $25.4 L_{\\odot}$ and a parallax of $0.379$, and knowing that the Sun has an apparent magnitude of $-26.7$, calculate the apparent magnitude of Sirius.  \n",
    "_Recall that a parsec is 206265 AU (distance between the Earth and Sun)._"
   ]
  },
  {
   "cell_type": "code",
   "execution_count": null,
   "id": "private-czech",
   "metadata": {},
   "outputs": [],
   "source": []
  },
  {
   "cell_type": "markdown",
   "id": "maritime-grove",
   "metadata": {},
   "source": [
    "**Advanced exercise:** Write a function to calculate the apparent magnitude of any star given its luminosity and parallax, using the Sun as a reference. Remember to document!"
   ]
  }
 ],
 "metadata": {
  "kernelspec": {
   "display_name": "Python 3 (ipykernel)",
   "language": "python",
   "name": "python3"
  },
  "language_info": {
   "codemirror_mode": {
    "name": "ipython",
    "version": 3
   },
   "file_extension": ".py",
   "mimetype": "text/x-python",
   "name": "python",
   "nbconvert_exporter": "python",
   "pygments_lexer": "ipython3",
   "version": "3.9.15"
  }
 },
 "nbformat": 4,
 "nbformat_minor": 5
}
