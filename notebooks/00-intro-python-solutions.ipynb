{
 "cells": [
  {
   "cell_type": "markdown",
   "id": "fatal-limitation",
   "metadata": {},
   "source": [
    "# A short introduction to Python\n",
    "## Introduction to Astronomy, AGS Winterim 2023\n",
    "By: Mathilda Avirett-Mackenzie\n",
    "\n",
    "Coding is an incredibly powerful tool in science, both for building models and analyzing data. In this course, we'll be working with [Python](https://www.python.org), a language that is both simple and powerful and very commonly used by professional astronomers. We'll be learning using [Jupyter notebooks](https://jupyter.org). \n",
    "\n",
    "## 0. How to use Jupyter\n",
    "This notebook is divided into cells, which either contain code or text. To run a cell, either click on the `run` button at the top of the notebook or press `shift`+`enter`, which will run the code or render the text in the cell. \n",
    "\n",
    "Navigate with the arrow keys or by clicking on the cell you want to edit. \n",
    "\n",
    "If the box around the cell is green, you're in **edit mode** and you can type code or text into the cell. If the box around the cell is blue, you're in **command mode** and key presses correspond to different commands (kind of like the `control` or `command` button on your keyboard). You can press `Esc` to go to command mode if you're in edit mode, and `enter` to go to edit mode from command mode.\n",
    "\n",
    "Click the `+` button or press `a` or `b` (in command mode) to create a new code cell. You can change to a markdown cell by toggling in the dropdown menu at the top (which will say \"Code\" or \"Markdown\"), or by pressing `m` in command mode (change back to a code cell by pressing `y`). \n",
    "\n",
    "For the deeply curious, the button with the keyboard symbol at the top gives the full list of key commands you can do in command mode."
   ]
  },
  {
   "cell_type": "markdown",
   "id": "labeled-milan",
   "metadata": {},
   "source": [
    "## 1. Coding basics\n",
    "### 1.1 Calculations\n",
    "We can do basic calculations in Python, just like on a calculator. Try running the cells below this one."
   ]
  },
  {
   "cell_type": "code",
   "execution_count": 1,
   "id": "sharp-survival",
   "metadata": {},
   "outputs": [
    {
     "data": {
      "text/plain": [
       "3"
      ]
     },
     "execution_count": 1,
     "metadata": {},
     "output_type": "execute_result"
    }
   ],
   "source": [
    "1+2"
   ]
  },
  {
   "cell_type": "code",
   "execution_count": 2,
   "id": "prompt-romance",
   "metadata": {},
   "outputs": [
    {
     "data": {
      "text/plain": [
       "1.6666666666666667"
      ]
     },
     "execution_count": 2,
     "metadata": {},
     "output_type": "execute_result"
    }
   ],
   "source": [
    "5/3"
   ]
  },
  {
   "cell_type": "code",
   "execution_count": 3,
   "id": "mexican-mountain",
   "metadata": {},
   "outputs": [
    {
     "data": {
      "text/plain": [
       "16"
      ]
     },
     "execution_count": 3,
     "metadata": {},
     "output_type": "execute_result"
    }
   ],
   "source": [
    "2**4"
   ]
  },
  {
   "cell_type": "markdown",
   "id": "touched-license",
   "metadata": {},
   "source": [
    "**Example:** Remember how we use parallax to measure the distance to other stars outside the solar system: $$d = \\frac1p.$$ Given that the parallax of Sirius is $0.379''$, calculate its distance in parsecs."
   ]
  },
  {
   "cell_type": "code",
   "execution_count": 4,
   "id": "governing-suffering",
   "metadata": {},
   "outputs": [
    {
     "data": {
      "text/plain": [
       "2.638522427440633"
      ]
     },
     "execution_count": 4,
     "metadata": {},
     "output_type": "execute_result"
    }
   ],
   "source": [
    "1./0.379"
   ]
  },
  {
   "cell_type": "markdown",
   "id": "relative-float",
   "metadata": {},
   "source": [
    "### 1.2 Variables\n",
    "We can store information in a variable to use it in further calculations without having to retype it."
   ]
  },
  {
   "cell_type": "code",
   "execution_count": 5,
   "id": "uniform-cooperative",
   "metadata": {},
   "outputs": [],
   "source": [
    "d_sirius = 1./0.379 # parsec"
   ]
  },
  {
   "cell_type": "code",
   "execution_count": 6,
   "id": "optimum-collectible",
   "metadata": {},
   "outputs": [
    {
     "data": {
      "text/plain": [
       "2.638522427440633"
      ]
     },
     "execution_count": 6,
     "metadata": {},
     "output_type": "execute_result"
    }
   ],
   "source": [
    "d_sirius"
   ]
  },
  {
   "cell_type": "markdown",
   "id": "forced-consequence",
   "metadata": {},
   "source": [
    "We can also use variables to store constants and conversions to use in calculations.  \n",
    "\n",
    "**Example:** Given that there are $3.09 \\times 10^{13}$ kilometers in a parsec, store this value in a variable and print the distance to Sirius in km.  \n",
    "_Tip: Name your variables sensibly, so if you come back to the same program later you can understand it._"
   ]
  },
  {
   "cell_type": "code",
   "execution_count": 7,
   "id": "better-father",
   "metadata": {},
   "outputs": [],
   "source": [
    "pc_to_km = 3.09e13 # scientific notation"
   ]
  },
  {
   "cell_type": "code",
   "execution_count": 8,
   "id": "hearing-vatican",
   "metadata": {},
   "outputs": [
    {
     "data": {
      "text/plain": [
       "81530343007915.56"
      ]
     },
     "execution_count": 8,
     "metadata": {},
     "output_type": "execute_result"
    }
   ],
   "source": [
    "d_sirius*pc_to_km # km"
   ]
  },
  {
   "cell_type": "code",
   "execution_count": 9,
   "id": "desirable-trader",
   "metadata": {},
   "outputs": [
    {
     "name": "stdout",
     "output_type": "stream",
     "text": [
      "8.153034e+13\n"
     ]
    }
   ],
   "source": [
    "print('%e' %(d_sirius*pc_to_km)) # forcing Python to print in scientific notation"
   ]
  },
  {
   "cell_type": "markdown",
   "id": "significant-kansas",
   "metadata": {},
   "source": [
    "### 1.3 Loops and functions\n",
    "Say we have a catalogue of a million stars with their parallax measurements, and we want to calulate all of their distances. We can't sit here typing out a million calculations! If we want to do the same calculation a bunch of times on different data, we can store the calculation in a function, and we can use a loop to apply the calculation over a list of data.\n",
    "\n",
    "We follow [standard conventions](https://numpydoc.readthedocs.io/en/latest/format.html) in documenting functions, that is, writing descriptions of what they do."
   ]
  },
  {
   "cell_type": "code",
   "execution_count": 10,
   "id": "fresh-pastor",
   "metadata": {},
   "outputs": [],
   "source": [
    "def dist_from_par(parallax):\n",
    "    ''' Function to calculate distance from parallax - yes this is a bit contrived\n",
    "    \n",
    "    Parameters\n",
    "    ----------\n",
    "    parallax : float\n",
    "        parallax in arcseconds\n",
    "        \n",
    "    Returns\n",
    "    -------\n",
    "    dist : float\n",
    "        distance in parsecs\n",
    "    \n",
    "    '''\n",
    "    dist = 1./parallax\n",
    "    return dist"
   ]
  },
  {
   "cell_type": "markdown",
   "id": "ignored-russia",
   "metadata": {},
   "source": [
    "We can call the function on inputs as described in the documentation."
   ]
  },
  {
   "cell_type": "code",
   "execution_count": 11,
   "id": "infectious-costs",
   "metadata": {},
   "outputs": [
    {
     "data": {
      "text/plain": [
       "2.638522427440633"
      ]
     },
     "execution_count": 11,
     "metadata": {},
     "output_type": "execute_result"
    }
   ],
   "source": [
    "dist_from_par(0.379)"
   ]
  },
  {
   "cell_type": "markdown",
   "id": "opponent-jersey",
   "metadata": {},
   "source": [
    "Now, given a list of data, we can use a powerful tool called a `for` loop to iterate over the list."
   ]
  },
  {
   "cell_type": "code",
   "execution_count": 12,
   "id": "brown-madonna",
   "metadata": {},
   "outputs": [],
   "source": [
    "parallaxes = [0.379, 10.5, 750.8, 88.8, 130.2] # parallaxes of some of the brightest stars"
   ]
  },
  {
   "cell_type": "code",
   "execution_count": 13,
   "id": "black-abuse",
   "metadata": {},
   "outputs": [
    {
     "name": "stdout",
     "output_type": "stream",
     "text": [
      "0.379\n",
      "10.5\n",
      "750.8\n",
      "88.8\n",
      "130.2\n"
     ]
    }
   ],
   "source": [
    "for p in parallaxes:\n",
    "    print(p)"
   ]
  },
  {
   "cell_type": "markdown",
   "id": "tired-operations",
   "metadata": {},
   "source": [
    "**Example:** Put these concepts together, and use the `dist_from_par` function and a `for` loop to print the distances to the brightest 5 stars."
   ]
  },
  {
   "cell_type": "code",
   "execution_count": 14,
   "id": "saving-peripheral",
   "metadata": {},
   "outputs": [
    {
     "name": "stdout",
     "output_type": "stream",
     "text": [
      "2.638522427440633\n",
      "0.09523809523809523\n",
      "0.0013319126265316996\n",
      "0.011261261261261262\n",
      "0.007680491551459294\n"
     ]
    }
   ],
   "source": [
    "for p in parallaxes:\n",
    "    d = dist_from_par(p)\n",
    "    print(d)"
   ]
  },
  {
   "cell_type": "markdown",
   "id": "lyric-filter",
   "metadata": {},
   "source": [
    "### 1.4 Importing packages\n",
    "What if we want to do more complicated calculations? Part of what makes Python so incredibly useful is being able to easily use published code to make our lives easier. Why spend a lot of time writing complicated code to calculate a square root when someone else has already done it?\n",
    "\n",
    "One of the most popular packages is [numpy](https://numpy.org), which contains a whole host of mathematical functions. We will use numpy a lot in this course."
   ]
  },
  {
   "cell_type": "code",
   "execution_count": 15,
   "id": "circular-assistant",
   "metadata": {},
   "outputs": [],
   "source": [
    "import numpy as np"
   ]
  },
  {
   "cell_type": "code",
   "execution_count": 16,
   "id": "asian-amendment",
   "metadata": {},
   "outputs": [
    {
     "data": {
      "text/plain": [
       "1.4142135623730951"
      ]
     },
     "execution_count": 16,
     "metadata": {},
     "output_type": "execute_result"
    }
   ],
   "source": [
    "np.sqrt(2)"
   ]
  },
  {
   "cell_type": "code",
   "execution_count": 17,
   "id": "complete-passion",
   "metadata": {},
   "outputs": [
    {
     "data": {
      "text/plain": [
       "3.0"
      ]
     },
     "execution_count": 17,
     "metadata": {},
     "output_type": "execute_result"
    }
   ],
   "source": [
    "np.log10(1000)"
   ]
  },
  {
   "cell_type": "code",
   "execution_count": 18,
   "id": "preceding-surgeon",
   "metadata": {},
   "outputs": [
    {
     "data": {
      "text/plain": [
       "3.141592653589793"
      ]
     },
     "execution_count": 18,
     "metadata": {},
     "output_type": "execute_result"
    }
   ],
   "source": [
    "np.pi"
   ]
  },
  {
   "cell_type": "markdown",
   "id": "charged-credit",
   "metadata": {},
   "source": [
    "**Example:** Remember how flux (light measured from a distant star) is related to luminosity (intrinsic energy output of the star) and distance: $$f = \\frac{L}{4 \\pi d^2}.$$\n",
    "Given that the luminosity of Sirius is $25.4 L_{\\odot}$ and its observed flux is $3.04 \\times 10^{-34} L_{\\odot}/\\mathrm{m}^2$, recover its distance. Does this match what you got from the parallax?"
   ]
  },
  {
   "cell_type": "markdown",
   "id": "nuclear-irish",
   "metadata": {},
   "source": [
    "Rearrange:\n",
    "$$d = \\sqrt{\\frac{L}{4 \\pi f}}$$"
   ]
  },
  {
   "cell_type": "code",
   "execution_count": 19,
   "id": "metropolitan-european",
   "metadata": {},
   "outputs": [
    {
     "data": {
      "text/plain": [
       "2.638861852973414"
      ]
     },
     "execution_count": 19,
     "metadata": {},
     "output_type": "execute_result"
    }
   ],
   "source": [
    "L_sirius = 25.4     # Lsun\n",
    "f_sirius = 3.04e-34 # Lsun m^-2\n",
    "\n",
    "d_sirius = np.sqrt(L_sirius/(4*np.pi*f_sirius)) # in meters\n",
    "d_sirius/pc_to_km/1e3"
   ]
  },
  {
   "cell_type": "markdown",
   "id": "above-cream",
   "metadata": {},
   "source": [
    "## 2. Putting it all together: Calculating magnitudes\n",
    "Let's now do a more complicated exercise to practice what we've learned. Remember that magnitudes in astronomy are defined logarithmically (which reflects how logarithms are basically a fancy name for orders of magnitude):\n",
    "$$m_1 - m_2 = -2.5 \\log\\left( \\frac{f_1}{f_2} \\right)$$\n",
    "\n",
    "Given that Sirius has a luminosity of $25.4 L_{\\odot}$ and a parallax of $0.379$, and knowing that the Sun has an apparent magnitude of $-26.7$, calculate the apparent magnitude of Sirius.  \n",
    "_Recall that a parsec is 206265 AU (distance between the Earth and Sun)._"
   ]
  },
  {
   "cell_type": "code",
   "execution_count": 20,
   "id": "common-management",
   "metadata": {},
   "outputs": [],
   "source": [
    "L_sirius = 25.4      # Lsun\n",
    "d_sirius = 1./0.379  # parsec\n",
    "L_sun = 1            # Lsun\n",
    "m_sun = -26.7        # mags\n",
    "d_sun = 1./206265    # parsec"
   ]
  },
  {
   "cell_type": "markdown",
   "id": "sought-comment",
   "metadata": {},
   "source": [
    "$$m_{S} = m_{\\odot} - 2.5 \\log \\left(\\frac{\\frac{L_S}{4 \\pi d_S}}{\\frac{L_{\\odot}}{4 \\pi d_{\\odot}}} \\right)$$"
   ]
  },
  {
   "cell_type": "code",
   "execution_count": 21,
   "id": "distributed-penalty",
   "metadata": {
    "scrolled": false
   },
   "outputs": [
    {
     "data": {
      "text/plain": [
       "-1.5331526357567036"
      ]
     },
     "execution_count": 21,
     "metadata": {},
     "output_type": "execute_result"
    }
   ],
   "source": [
    "m_sun - 2.5*np.log10((L_sirius/(4*np.pi*d_sirius**2))/(L_sun/(4*np.pi*d_sun**2)))"
   ]
  },
  {
   "cell_type": "markdown",
   "id": "equivalent-theorem",
   "metadata": {},
   "source": [
    "The correct answer is -1.46--I cannot figure out what's making it be off besides rounding errors"
   ]
  },
  {
   "cell_type": "markdown",
   "id": "structured-compiler",
   "metadata": {},
   "source": [
    "**Advanced exercise:** Write a function to calculate the apparent magnitude of any star given its luminosity and parallax, using the Sun as a reference. Remember to document!"
   ]
  },
  {
   "cell_type": "code",
   "execution_count": 22,
   "id": "median-architecture",
   "metadata": {},
   "outputs": [],
   "source": [
    "def get_mag(L, par, L_ref=1, m_ref=-26.7, d_ref=4.85e-6):\n",
    "    ''' Calculates the magnitude of a source given its luminosity and parallax.\n",
    "    \n",
    "    Parameters\n",
    "    ----------\n",
    "    L : float\n",
    "        luminosity of source in Lsun\n",
    "    par : float\n",
    "        parallax of source in arcsec\n",
    "    L_ref : float, default 1\n",
    "        luminosity of reference source in Lsun\n",
    "    m_ref : float, default -26.7\n",
    "        magnitude of reference source\n",
    "    d_ref : float, default 4.85e-6\n",
    "        distance to reference source in parsec\n",
    "        \n",
    "    Returns\n",
    "    -------\n",
    "    m : float\n",
    "        magnitude of source\n",
    "    '''\n",
    "    \n",
    "    m = m_ref - 2.5*np.log10((L/(4*np.pi/par**2))/(L_ref/(4*np.pi*d_ref**2)))\n",
    "    return m"
   ]
  },
  {
   "cell_type": "code",
   "execution_count": 23,
   "id": "charged-screening",
   "metadata": {},
   "outputs": [
    {
     "data": {
      "text/plain": [
       "-1.5339890344015252"
      ]
     },
     "execution_count": 23,
     "metadata": {},
     "output_type": "execute_result"
    }
   ],
   "source": [
    "get_mag(25.4, 0.379)"
   ]
  }
 ],
 "metadata": {
  "kernelspec": {
   "display_name": "Python 3 (ipykernel)",
   "language": "python",
   "name": "python3"
  },
  "language_info": {
   "codemirror_mode": {
    "name": "ipython",
    "version": 3
   },
   "file_extension": ".py",
   "mimetype": "text/x-python",
   "name": "python",
   "nbconvert_exporter": "python",
   "pygments_lexer": "ipython3",
   "version": "3.9.15"
  }
 },
 "nbformat": 4,
 "nbformat_minor": 5
}
